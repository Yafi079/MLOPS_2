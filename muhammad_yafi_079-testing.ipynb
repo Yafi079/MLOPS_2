{
 "cells": [
  {
   "cell_type": "markdown",
   "metadata": {},
   "source": [
    "**Mengimpor Modul untuk Pemrosesan Data, Permintaan HTTP, dan TensorFlow**\n",
    "\n",
    "Kode ini mengimpor beberapa modul Python yang diperlukan untuk berbagai tugas, termasuk `base64` dan `json` untuk encoding dan decoding data, `random` untuk operasi acak, `pandas` untuk manipulasi dan analisis data, `requests` untuk membuat permintaan HTTP, dan `tensorflow` untuk operasi pembelajaran mesin dan pemrosesan data tensor. Fungsinya adalah untuk menyediakan semua alat yang diperlukan untuk menangani data, melakukan permintaan jaringan, dan menerapkan model pembelajaran mesin dalam skrip atau aplikasi yang sedang dikembangkan."
   ]
  },
  {
   "cell_type": "code",
   "execution_count": 253,
   "metadata": {},
   "outputs": [],
   "source": [
    "import base64\n",
    "import json\n",
    "import random\n",
    "import pandas as pd\n",
    "import requests\n",
    "import tensorflow as tf"
   ]
  },
  {
   "cell_type": "markdown",
   "metadata": {},
   "source": [
    "**Membaca Dataset Stroke dari File CSV**\n",
    "\n",
    "Kode ini menggunakan Pandas untuk membaca file CSV yang berisi dataset kesehatan terkait stroke dari path yang ditentukan dan menyimpannya dalam variabel `data_csv`."
   ]
  },
  {
   "cell_type": "code",
   "execution_count": 254,
   "metadata": {},
   "outputs": [],
   "source": [
    "data_csv = pd.read_csv(r\"C:\\Users\\ANANG\\ML_Ops\\Yafi\\data\\healthcare-dataset-stroke-data.csv\")"
   ]
  },
  {
   "cell_type": "markdown",
   "metadata": {},
   "source": [
    "**Mengambil Sampel Acak dari Dataset dan Membuat Dictionary Fitur**\n",
    "\n",
    "Kode ini mengambil nama kolom dari dataset, memilih baris acak dari dataset, dan menyimpan nilai-nilai fitur dari baris tersebut. Kemudian, kode membuat dictionary `inputs` yang memetakan setiap nama kolom ke nilai fiturnya yang sesuai, menyediakan representasi fitur dari sampel acak dari dataset."
   ]
  },
  {
   "cell_type": "code",
   "execution_count": 255,
   "metadata": {},
   "outputs": [
    {
     "data": {
      "text/plain": [
       "{'id': 32150,\n",
       " 'gender': 'Female',\n",
       " 'age': 56.0,\n",
       " 'hypertension': 0,\n",
       " 'heart_disease': 0,\n",
       " 'ever_married': 'Yes',\n",
       " 'work_type': 'Self-employed',\n",
       " 'Residence_type': 'Rural',\n",
       " 'avg_glucose_level': 94.71,\n",
       " 'bmi': 29.6,\n",
       " 'smoking_status': 'smokes',\n",
       " 'stroke': 0}"
      ]
     },
     "execution_count": 255,
     "metadata": {},
     "output_type": "execute_result"
    }
   ],
   "source": [
    "columns = data_csv.columns.values\n",
    "rand = random.randint(0, len(data_csv) - 1)\n",
    "\n",
    "features = data_csv.values[rand]\n",
    "\n",
    "inputs = {key: value for key, value in zip(columns, features)}\n",
    "inputs"
   ]
  },
  {
   "cell_type": "markdown",
   "metadata": {},
   "source": [
    "**Mendefinisikan Fungsi untuk Membuat Fitur TensorFlow dari Nilai Data**\n",
    "\n",
    "Kode ini mendefinisikan tiga fungsi: `string_feature`, `float_feature`, dan `int_feature`, yang masing-masing mengubah nilai data menjadi objek `tf.train.Feature` yang sesuai. Fungsi-fungsi ini digunakan untuk mengkonversi nilai string, float, dan integer menjadi format yang dapat digunakan dalam protokol buffer TensorFlow untuk menyimpan data fitur."
   ]
  },
  {
   "cell_type": "code",
   "execution_count": 256,
   "metadata": {},
   "outputs": [],
   "source": [
    "def string_feature(value):\n",
    "    return tf.train.Feature(\n",
    "        bytes_list=tf.train.BytesList(value=[bytes(value, \"utf-8\")]),\n",
    "    )\n",
    "\n",
    "def float_feature(value):\n",
    "    return tf.train.Feature(\n",
    "        float_list=tf.train.FloatList(value=[value]),\n",
    "    )\n",
    "\n",
    "def int_feature(value):\n",
    "    return tf.train.Feature(\n",
    "        int64_list=tf.train.Int64List(value=[value]),\n",
    "    )"
   ]
  },
  {
   "cell_type": "markdown",
   "metadata": {},
   "source": [
    "**Menyiapkan JSON untuk Permintaan Inferensi TensorFlow Serving**\n",
    "\n",
    "Kode ini mendefinisikan fungsi `prepare_json` yang mengonversi dictionary `inputs` menjadi format JSON yang dapat digunakan untuk permintaan inferensi dengan TensorFlow Serving. Fungsi ini mengonversi nilai-nilai dalam `inputs` menjadi fitur TensorFlow yang sesuai, membungkusnya dalam objek `tf.train.Example`, dan kemudian mengenkodekannya ke dalam format base64 sebelum mengemasnya menjadi JSON."
   ]
  },
  {
   "cell_type": "code",
   "execution_count": 257,
   "metadata": {},
   "outputs": [],
   "source": [
    "def prepare_json(inputs: dict):\n",
    "    feature_spec = dict()\n",
    "\n",
    "    for keys, values in inputs.items():\n",
    "        if isinstance(values, str):\n",
    "            feature_spec[keys] = string_feature(values)\n",
    "        elif isinstance(values, float):\n",
    "            feature_spec[keys] = float_feature(values)\n",
    "        else:\n",
    "            feature_spec[keys] = int_feature(values)\n",
    "\n",
    "    example = tf.train.Example(\n",
    "        features=tf.train.Features(feature=feature_spec)\n",
    "    ).SerializeToString()\n",
    "\n",
    "    result = [{\"examples\": {\"b64\": base64.b64encode(example).decode()}}]\n",
    "\n",
    "    return json.dumps(\n",
    "        {\n",
    "            \"signature_name\": \"serving_default\",\n",
    "            \"instances\": result,\n",
    "        }\n",
    "    )"
   ]
  },
  {
   "cell_type": "markdown",
   "metadata": {},
   "source": [
    "**Membuat Prediksi Penyakit Stroke Menggunakan TensorFlow Serving**\n",
    "\n",
    "Kode ini mendefinisikan fungsi `make_predictions` yang mempersiapkan data input menjadi JSON menggunakan `prepare_json`, mengirim permintaan POST ke endpoint model TensorFlow Serving, dan menerima respons prediksi. Berdasarkan hasil prediksi, fungsi ini mengembalikan diagnosis apakah seseorang \"Tidak Mengalami Penyakit Stroke\" atau \"Mengalami Penyakit Stroke\"."
   ]
  },
  {
   "cell_type": "code",
   "execution_count": 258,
   "metadata": {},
   "outputs": [],
   "source": [
    "def make_predictions(inputs):\n",
    "    json_data = prepare_json(inputs)\n",
    "\n",
    "    endpoint = \"https://muhammadyafi079-pipeline-production.up.railway.app/v1/models/stroke-model:predict\"\n",
    "    response = requests.post(endpoint, data=json_data, headers={\"Content-Type\": \"application/json\"})\n",
    "    prediction = response.json()[\"predictions\"][0][0]\n",
    "\n",
    "    if prediction < 0.5:\n",
    "        return \"Tidak Mengalami Penyakit Stroke\"\n",
    "    else:\n",
    "        return \"Mengalami Penyakit Stroke\""
   ]
  },
  {
   "cell_type": "markdown",
   "metadata": {},
   "source": [
    "**Mencetak Hasil Prediksi dan Fitur Input untuk Diagnosis Stroke**\n",
    "\n",
    "Kode ini memanggil fungsi `make_predictions` dengan `inputs` sebagai argumen untuk mendapatkan hasil prediksi penyakit stroke. Kemudian, hasil prediksi dan fitur input yang digunakan untuk prediksi dicetak ke layar."
   ]
  },
  {
   "cell_type": "code",
   "execution_count": 259,
   "metadata": {},
   "outputs": [
    {
     "name": "stdout",
     "output_type": "stream",
     "text": [
      "Hasil Prediksi: Tidak Mengalami Penyakit Stroke\n",
      "Fitur Input: {'id': 32150, 'gender': 'Female', 'age': 56.0, 'hypertension': 0, 'heart_disease': 0, 'ever_married': 'Yes', 'work_type': 'Self-employed', 'Residence_type': 'Rural', 'avg_glucose_level': 94.71, 'bmi': 29.6, 'smoking_status': 'smokes', 'stroke': 0}\n"
     ]
    }
   ],
   "source": [
    "hasil_prediksi = make_predictions(inputs)\n",
    "print(f'Hasil Prediksi: {hasil_prediksi}')\n",
    "print('Fitur Input:', inputs)"
   ]
  }
 ],
 "metadata": {
  "kernelspec": {
   "display_name": "myenv",
   "language": "python",
   "name": "python3"
  },
  "language_info": {
   "codemirror_mode": {
    "name": "ipython",
    "version": 3
   },
   "file_extension": ".py",
   "mimetype": "text/x-python",
   "name": "python",
   "nbconvert_exporter": "python",
   "pygments_lexer": "ipython3",
   "version": "3.9.2"
  }
 },
 "nbformat": 4,
 "nbformat_minor": 2
}
